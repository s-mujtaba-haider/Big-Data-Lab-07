{
  "nbformat": 4,
  "nbformat_minor": 0,
  "metadata": {
    "colab": {
      "provenance": []
    },
    "kernelspec": {
      "name": "python3",
      "display_name": "Python 3"
    },
    "language_info": {
      "name": "python"
    }
  },
  "cells": [
    {
      "cell_type": "code",
      "execution_count": null,
      "metadata": {
        "colab": {
          "base_uri": "https://localhost:8080/"
        },
        "id": "bD5rY8R0vXsU",
        "outputId": "8db0cbaa-326d-4559-b8ba-29b365f31c54"
      },
      "outputs": [
        {
          "output_type": "stream",
          "name": "stdout",
          "text": [
            "Looking in indexes: https://pypi.org/simple, https://us-python.pkg.dev/colab-wheels/public/simple/\n",
            "Collecting mrjob\n",
            "  Downloading mrjob-0.7.4-py2.py3-none-any.whl (439 kB)\n",
            "\u001b[2K     \u001b[90m━━━━━━━━━━━━━━━━━━━━━━━━━━━━━━━━━━━━━━\u001b[0m \u001b[32m439.6/439.6 KB\u001b[0m \u001b[31m11.4 MB/s\u001b[0m eta \u001b[36m0:00:00\u001b[0m\n",
            "\u001b[?25hRequirement already satisfied: PyYAML>=3.10 in /usr/local/lib/python3.9/dist-packages (from mrjob) (6.0)\n",
            "Installing collected packages: mrjob\n",
            "Successfully installed mrjob-0.7.4\n"
          ]
        }
      ],
      "source": [
        "pip install mrjob"
      ]
    },
    {
      "cell_type": "code",
      "source": [
        "# Q - 1\n",
        "%%file songcount.ipynb\n",
        "from mrjob.job import MRJob\n",
        "\n",
        "class SongCount(MRJob):\n",
        "    def mapper(self, _, line):\n",
        "        user, date, *songs = line.split(',')\n",
        "        yield (date, user), 1\n",
        "\n",
        "    def reducer(self, key, values):\n",
        "        date, user = key\n",
        "        total_songs = sum(values)\n",
        "        if total_songs > 5:\n",
        "            yield None, user\n",
        "\n",
        "if __name__ == '__main__':\n",
        "    SongCount.run()"
      ],
      "metadata": {
        "colab": {
          "base_uri": "https://localhost:8080/"
        },
        "id": "TtXnprSvvry4",
        "outputId": "a84d24d9-3d99-4c01-c38c-24d201f7b1ff"
      },
      "execution_count": null,
      "outputs": [
        {
          "output_type": "stream",
          "name": "stdout",
          "text": [
            "Overwriting songcount.ipynb\n"
          ]
        }
      ]
    },
    {
      "cell_type": "code",
      "source": [
        "! python \"songcount.ipynb\" \"music.txt\""
      ],
      "metadata": {
        "colab": {
          "base_uri": "https://localhost:8080/"
        },
        "id": "z9gHVDAZwF4X",
        "outputId": "6981b502-e498-482d-db74-c3b53b0c34dd"
      },
      "execution_count": null,
      "outputs": [
        {
          "output_type": "stream",
          "name": "stdout",
          "text": [
            "No configs found; falling back on auto-configuration\n",
            "No configs specified for inline runner\n",
            "Creating temp directory /tmp/songcount.root.20230315.151225.075653\n",
            "Running step 1 of 1...\n",
            "job output is in /tmp/songcount.root.20230315.151225.075653/output\n",
            "Streaming final output from /tmp/songcount.root.20230315.151225.075653/output...\n",
            "Removing temp directory /tmp/songcount.root.20230315.151225.075653...\n"
          ]
        }
      ]
    },
    {
      "cell_type": "code",
      "source": [
        "# Q - 2\n",
        "%%file songcount.ipynb\n",
        "from mrjob.job import MRJob\n",
        "\n",
        "class SongCount(MRJob):\n",
        "    def mapper(self, _, line):\n",
        "        user, date, *songs = line.split(',')\n",
        "        yield (user, date), len(songs)\n",
        "\n",
        "    def reducer(self, key, values):\n",
        "        user, date = key\n",
        "        total_songs = sum(values)\n",
        "        yield \"Total Songs\", f\"{user} : {date} -> {total_songs}\"\n",
        "\n",
        "if __name__ == '__main__':\n",
        "    SongCount.run()"
      ],
      "metadata": {
        "colab": {
          "base_uri": "https://localhost:8080/"
        },
        "id": "QvKtVVAswS3m",
        "outputId": "5a0209a7-b975-48fc-ff0a-35047f25beb4"
      },
      "execution_count": null,
      "outputs": [
        {
          "output_type": "stream",
          "name": "stdout",
          "text": [
            "Overwriting songcount.ipynb\n"
          ]
        }
      ]
    },
    {
      "cell_type": "code",
      "source": [
        "! python \"songcount.ipynb\" \"music.txt\""
      ],
      "metadata": {
        "colab": {
          "base_uri": "https://localhost:8080/"
        },
        "id": "VGUnBGOiwY7_",
        "outputId": "5f25df44-406b-4925-a95b-656392c7e1a6"
      },
      "execution_count": null,
      "outputs": [
        {
          "output_type": "stream",
          "name": "stdout",
          "text": [
            "No configs found; falling back on auto-configuration\n",
            "No configs specified for inline runner\n",
            "Creating temp directory /tmp/songcount.root.20230315.151235.726614\n",
            "Running step 1 of 1...\n",
            "job output is in /tmp/songcount.root.20230315.151235.726614/output\n",
            "Streaming final output from /tmp/songcount.root.20230315.151235.726614/output...\n",
            "null\t\"Amina  20-4-22 1\"\n",
            "null\t\"Fahad  14-04-22 4\"\n",
            "null\t\"Sara  20-4-22 S1 2\"\n",
            "null\t\"Ali  12-3-20 3\"\n",
            "null\t\"Ali  20-4-22 S1 1\"\n",
            "Removing temp directory /tmp/songcount.root.20230315.151235.726614...\n"
          ]
        }
      ]
    },
    {
      "cell_type": "code",
      "source": [
        "# Q - 3\n",
        "%%file songcount.ipynb\n",
        "from mrjob.job import MRJob\n",
        "\n",
        "class SongCount(MRJob):\n",
        "    def mapper(self, _, line):\n",
        "        user, date, *songs = line.split(',')\n",
        "        for song in songs:\n",
        "            yield user, 1\n",
        "\n",
        "    def combiner(self, user, counts):\n",
        "        yield user, sum(counts)\n",
        "\n",
        "    def reducer(self, user, counts):\n",
        "        yield user, sum(counts)\n",
        "\n",
        "if __name__ == '__main__':\n",
        "    SongCount.run()"
      ],
      "metadata": {
        "colab": {
          "base_uri": "https://localhost:8080/"
        },
        "id": "Ao1S0Np_wlAW",
        "outputId": "4df85c16-1c60-4b25-ddc7-466d35ef39b9"
      },
      "execution_count": null,
      "outputs": [
        {
          "output_type": "stream",
          "name": "stdout",
          "text": [
            "Overwriting songcount.ipynb\n"
          ]
        }
      ]
    },
    {
      "cell_type": "code",
      "source": [
        "! python \"songcount.ipynb\" \"music.txt\""
      ],
      "metadata": {
        "colab": {
          "base_uri": "https://localhost:8080/"
        },
        "id": "6wnNAySbwm6l",
        "outputId": "b3370118-7060-4d32-9611-431472a4c990"
      },
      "execution_count": null,
      "outputs": [
        {
          "output_type": "stream",
          "name": "stdout",
          "text": [
            "No configs found; falling back on auto-configuration\n",
            "No configs specified for inline runner\n",
            "Creating temp directory /tmp/songcount.root.20230315.151246.883114\n",
            "Running step 1 of 1...\n",
            "job output is in /tmp/songcount.root.20230315.151246.883114/output\n",
            "Streaming final output from /tmp/songcount.root.20230315.151246.883114/output...\n",
            "\"Amina\"\t1\n",
            "\"Fahad\"\t4\n",
            "\"Sara\"\t2\n",
            "\"Ali\"\t4\n",
            "Removing temp directory /tmp/songcount.root.20230315.151246.883114...\n"
          ]
        }
      ]
    },
    {
      "cell_type": "code",
      "source": [
        "# Q - 4\n",
        "%%file songcount.ipynb\n",
        "from mrjob.job import MRJob\n",
        "from mrjob.step import MRStep\n",
        "\n",
        "class AverageSongsPerDay(MRJob):\n",
        "\n",
        "    def mapper(self, _, line):\n",
        "        username, date, *songs = line.split(',')\n",
        "        yield date, len(songs)\n",
        "\n",
        "    def combiner(self, date, counts):\n",
        "        yield date, sum(counts)\n",
        "\n",
        "    def reducer(self, date, counts):\n",
        "        total_songs = sum(counts)\n",
        "        total_days = 1\n",
        "        for _ in counts:\n",
        "            total_days += 1\n",
        "        yield None, total_songs/total_days\n",
        "\n",
        "if __name__ == '__main__':\n",
        "    AverageSongsPerDay.run()"
      ],
      "metadata": {
        "colab": {
          "base_uri": "https://localhost:8080/"
        },
        "id": "6lZHI3AJwnlt",
        "outputId": "01335d9d-22b8-40a2-c28e-9583c71d6274"
      },
      "execution_count": null,
      "outputs": [
        {
          "output_type": "stream",
          "name": "stdout",
          "text": [
            "Writing songcount.ipynb\n"
          ]
        }
      ]
    },
    {
      "cell_type": "code",
      "source": [
        "! python \"songcount.ipynb\" \"music.txt\""
      ],
      "metadata": {
        "colab": {
          "base_uri": "https://localhost:8080/"
        },
        "id": "Z2yi2wfQwnoN",
        "outputId": "d341020d-7bcb-418f-f07e-d0de1209f5be"
      },
      "execution_count": null,
      "outputs": [
        {
          "output_type": "stream",
          "name": "stdout",
          "text": [
            "No configs found; falling back on auto-configuration\n",
            "No configs specified for inline runner\n",
            "Creating temp directory /tmp/songcount.root.20230315.151300.595719\n",
            "Running step 1 of 1...\n",
            "job output is in /tmp/songcount.root.20230315.151300.595719/output\n",
            "Streaming final output from /tmp/songcount.root.20230315.151300.595719/output...\n",
            "\"Amina\"\t1\n",
            "\"Fahad\"\t4\n",
            "\"Sara\"\t2\n",
            "\"Ali\"\t4\n",
            "Removing temp directory /tmp/songcount.root.20230315.151300.595719...\n"
          ]
        }
      ]
    },
    {
      "cell_type": "code",
      "source": [
        "# Q - 5\n",
        "%%file songcount.ipynb\n",
        "\n",
        "from mrjob.job import MRJob\n",
        "from mrjob.step import MRStep\n",
        "\n",
        "class SongCount(MRJob):\n",
        "    def mapper(self, _, line):\n",
        "        fields = line.strip().split(',')\n",
        "        songs = fields[2:]\n",
        "        for song in songs:\n",
        "            yield (song, 1)\n",
        "\n",
        "    def combiner(self, song, counts):\n",
        "        yield (song, sum(counts))\n",
        "\n",
        "    def reducer(self, song, counts):\n",
        "        yield (song, sum(counts))\n",
        "\n",
        "if __name__ == '__main__':\n",
        "    SongCount.run()"
      ],
      "metadata": {
        "colab": {
          "base_uri": "https://localhost:8080/"
        },
        "id": "xGv0R44rwnqu",
        "outputId": "c60b345b-b428-42df-8380-dad24c12c535"
      },
      "execution_count": null,
      "outputs": [
        {
          "output_type": "stream",
          "name": "stdout",
          "text": [
            "Overwriting songcount.ipynb\n"
          ]
        }
      ]
    },
    {
      "cell_type": "code",
      "source": [
        "! python \"songcount.ipynb\" \"music.txt\""
      ],
      "metadata": {
        "colab": {
          "base_uri": "https://localhost:8080/"
        },
        "id": "F8wEo6HIwntO",
        "outputId": "0af49a44-212b-4dc9-ff9d-3a700454f3a5"
      },
      "execution_count": null,
      "outputs": [
        {
          "output_type": "stream",
          "name": "stdout",
          "text": [
            "No configs found; falling back on auto-configuration\n",
            "No configs specified for inline runner\n",
            "Creating temp directory /tmp/songcount.root.20230315.151312.596219\n",
            "Running step 1 of 1...\n",
            "job output is in /tmp/songcount.root.20230315.151312.596219/output\n",
            "Streaming final output from /tmp/songcount.root.20230315.151312.596219/output...\n",
            "\" S2\"\t3\n",
            "\" S9\"\t1\n",
            "\"S3\"\t2\n",
            "\" S7\"\t2\n",
            "\" S1\"\t3\n",
            "Removing temp directory /tmp/songcount.root.20230315.151312.596219...\n"
          ]
        }
      ]
    },
    {
      "cell_type": "code",
      "source": [
        "# Q - 6\n",
        "%%file songcount.ipynb\n",
        "from mrjob.job import MRJob\n",
        "from mrjob.step import MRStep\n",
        "\n",
        "class SongCount(MRJob):\n",
        "\n",
        "    def mapper(self, _, line):\n",
        "        fields = line.strip().split(',')\n",
        "        username = fields[0]\n",
        "        date = fields[1]\n",
        "        songs = fields[2:]\n",
        "        yield (date, (username, len(songs)))\n",
        "\n",
        "    def combiner(self, date, user_songs):\n",
        "        max_user = None\n",
        "        max_songs = 0\n",
        "        for user, song_count in user_songs:\n",
        "            if song_count > max_songs:\n",
        "                max_user = user\n",
        "                max_songs = song_count\n",
        "        yield (date, (max_user, max_songs))\n",
        "\n",
        "    def reducer(self, date, user_song):\n",
        "        max_user = None\n",
        "        max_songs = 0\n",
        "        for user, song_count in user_song:\n",
        "            if song_count > max_songs:\n",
        "                max_user = user\n",
        "                max_songs = song_count\n",
        "        yield (date, max_user)\n",
        "\n",
        "if __name__ == '__main__':\n",
        "       SongCount.run()"
      ],
      "metadata": {
        "colab": {
          "base_uri": "https://localhost:8080/"
        },
        "id": "Tdut0yZ3wnvd",
        "outputId": "9b400889-f4d4-4ec5-e269-86c80d826e48"
      },
      "execution_count": null,
      "outputs": [
        {
          "output_type": "stream",
          "name": "stdout",
          "text": [
            "Overwriting songcount.ipynb\n"
          ]
        }
      ]
    },
    {
      "cell_type": "code",
      "source": [
        "! python \"songcount.ipynb\" \"music.txt\""
      ],
      "metadata": {
        "colab": {
          "base_uri": "https://localhost:8080/"
        },
        "id": "XpjUy5RLwnx3",
        "outputId": "30fc1640-183d-45e7-d134-298f29548c4c"
      },
      "execution_count": null,
      "outputs": [
        {
          "output_type": "stream",
          "name": "stdout",
          "text": [
            "No configs found; falling back on auto-configuration\n",
            "No configs specified for inline runner\n",
            "Creating temp directory /tmp/songcount.root.20230315.151324.024739\n",
            "Running step 1 of 1...\n",
            "job output is in /tmp/songcount.root.20230315.151324.024739/output\n",
            "Streaming final output from /tmp/songcount.root.20230315.151324.024739/output...\n",
            "\" 20-4-22 S1\"\t\"Sara\"\n",
            "\" 20-4-22\"\t\"Amina\"\n",
            "\" 12-3-20\"\t\"Ali\"\n",
            "\" 14-04-22\"\t\"Fahad\"\n",
            "Removing temp directory /tmp/songcount.root.20230315.151324.024739...\n"
          ]
        }
      ]
    },
    {
      "cell_type": "code",
      "source": [
        "# Q - 7\n",
        "%%file songcount.ipynb\n",
        "from mrjob.job import MRJob\n",
        "from mrjob.step import MRStep\n",
        "\n",
        "class SongCount(MRJob):\n",
        "    def mapper(self, _, line):\n",
        "        fields = line.strip().split(',')\n",
        "        user = fields[0]\n",
        "        songs = fields[2:]\n",
        "        yield user, len(songs)\n",
        "\n",
        "    def combiner(self, user, song_counts):\n",
        "        yield user, sum(song_counts)\n",
        "\n",
        "    def reducer(self, user, song_counts):\n",
        "        yield None, (user, sum(song_counts))\n",
        "\n",
        "    def reducer_max_songs(self, _, user_song_counts):\n",
        "        max_user, max_song_count = None, 0\n",
        "        for user, song_count in user_song_counts:\n",
        "            if song_count > max_song_count:\n",
        "                max_user, max_song_count = user, song_count\n",
        "        yield max_user, max_song_count\n",
        "\n",
        "    def steps(self):\n",
        "        return [\n",
        "            MRStep(mapper=self.mapper,\n",
        "                   combiner=self.combiner,\n",
        "                   reducer=self.reducer),\n",
        "            MRStep(reducer=self.reducer_max_songs)\n",
        "        ]\n",
        "\n",
        "if __name__ == '__main__':\n",
        "    SongCount.run()"
      ],
      "metadata": {
        "colab": {
          "base_uri": "https://localhost:8080/"
        },
        "id": "KbG7RmdMwn0a",
        "outputId": "59c40d40-439d-46da-8ee5-fb2f8a75fee8"
      },
      "execution_count": null,
      "outputs": [
        {
          "output_type": "stream",
          "name": "stdout",
          "text": [
            "Overwriting songcount.ipynb\n"
          ]
        }
      ]
    },
    {
      "cell_type": "code",
      "source": [
        "! python \"songcount.ipynb\" \"music.txt\""
      ],
      "metadata": {
        "colab": {
          "base_uri": "https://localhost:8080/"
        },
        "id": "PMq_jDlMwn2y",
        "outputId": "cf324235-fa90-489e-cbe3-f540616ca904"
      },
      "execution_count": null,
      "outputs": [
        {
          "output_type": "stream",
          "name": "stdout",
          "text": [
            "No configs found; falling back on auto-configuration\n",
            "No configs specified for inline runner\n",
            "Creating temp directory /tmp/songcount.root.20230315.151336.797037\n",
            "Running step 1 of 2...\n",
            "Running step 2 of 2...\n",
            "job output is in /tmp/songcount.root.20230315.151336.797037/output\n",
            "Streaming final output from /tmp/songcount.root.20230315.151336.797037/output...\n",
            "\"Fahad\"\t4\n",
            "Removing temp directory /tmp/songcount.root.20230315.151336.797037...\n"
          ]
        }
      ]
    },
    {
      "cell_type": "code",
      "source": [
        "# Q - 8\n",
        "%%file songcount.ipynb\n",
        "from mrjob.job import MRJob\n",
        "\n",
        "class SongCount(MRJob):\n",
        "\n",
        "    def mapper(self, _, line):\n",
        "        fields = line.strip().split(',')\n",
        "        if len(fields) == 3:\n",
        "            username, date, song_ids = fields[0], fields[1], fields[2].split()\n",
        "            yield (username, date), len(song_ids)\n",
        "\n",
        "    def combiner(self, user_date, song_counts):\n",
        "        yield user_date, sum(song_counts)\n",
        "\n",
        "    def reducer(self, user_date, song_counts):\n",
        "        yield user_date[0], sum(song_counts)\n",
        "\n",
        "if __name__ == '__main__':\n",
        "    SongCount.run()"
      ],
      "metadata": {
        "colab": {
          "base_uri": "https://localhost:8080/"
        },
        "id": "00B5HHlAwn5P",
        "outputId": "7ca83a6d-fa57-41c6-a4c5-db76dc5856f3"
      },
      "execution_count": null,
      "outputs": [
        {
          "output_type": "stream",
          "name": "stdout",
          "text": [
            "Overwriting songcount.ipynb\n"
          ]
        }
      ]
    },
    {
      "cell_type": "code",
      "source": [
        "! python \"songcount.ipynb\" \"music.txt\""
      ],
      "metadata": {
        "colab": {
          "base_uri": "https://localhost:8080/"
        },
        "id": "rVeq25BFwn7O",
        "outputId": "e08cffce-cadd-4e61-bd7a-213fe5eefbec"
      },
      "execution_count": null,
      "outputs": [
        {
          "output_type": "stream",
          "name": "stdout",
          "text": [
            "No configs found; falling back on auto-configuration\n",
            "No configs specified for inline runner\n",
            "Creating temp directory /tmp/songcount.root.20230315.151350.711054\n",
            "Running step 1 of 1...\n",
            "job output is in /tmp/songcount.root.20230315.151350.711054/output\n",
            "Streaming final output from /tmp/songcount.root.20230315.151350.711054/output...\n",
            "\"Amina\"\t1\n",
            "\"Ali\"\t1\n",
            "Removing temp directory /tmp/songcount.root.20230315.151350.711054...\n"
          ]
        }
      ]
    }
  ]
}